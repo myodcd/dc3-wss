{
 "cells": [
  {
   "cell_type": "code",
   "execution_count": 1,
   "metadata": {},
   "outputs": [],
   "source": [
    "import pickle\n",
    "import warnings\n",
    "import torch\n",
    "import os\n",
    "torch.set_default_dtype(torch.float64)\n",
    "\n",
    "warnings.filterwarnings(\"ignore\")\n",
    "\n",
    "device = torch.device(\"cuda\" if torch.cuda.is_available() else \"cpu\")\n",
    "\n",
    "file_path = r'C:\\Users\\mtcd\\Documents\\Codes\\dc3-wss\\dc3\\datasets\\dc_wss\\dc_wss_dataset_dc_5'\n",
    "\n",
    "with open(file_path, 'rb') as f:\n",
    "    data = pickle.load(f)\n",
    "    \n",
    "    \n",
    "dir_path = r'C:\\Users\\mtcd\\Documents\\Codes\\dc3-wss\\dc3\\models'\n",
    "file_name = 'model_2025-02-10_10-22-47_dcwss_epochs_3.pt'\n",
    "\n",
    "file_path = os.path.join(dir_path, file_name)"
   ]
  },
  {
   "cell_type": "code",
   "execution_count": 2,
   "metadata": {},
   "outputs": [],
   "source": [
    "import torch.nn as nn\n",
    "from functools import reduce\n",
    "import operator\n",
    "\n",
    "class NNSolver(nn.Module):\n",
    "    def __init__(self, data, args):\n",
    "        super().__init__()\n",
    "        self._data = data\n",
    "        self._args = args\n",
    "        layer_sizes = [data.xdim, self._args['hiddenSize'], self._args['hiddenSize']]\n",
    "        layers = reduce(operator.add,\n",
    "            [[nn.Linear(a,b), nn.BatchNorm1d(b), nn.ReLU(), nn.Dropout(p=0.2)]\n",
    "                for a,b in zip(layer_sizes[0:-1], layer_sizes[1:])])\n",
    "        \n",
    "        output_dim = data.ydim - data.nknowns        \n",
    "\n",
    "        if self._args['useCompl']:\n",
    "            layers += [nn.Linear(layer_sizes[-1], output_dim - data.neq)]            \n",
    "        else:\n",
    "            layers += [nn.Linear(layer_sizes[-1], output_dim)] \n",
    "            \n",
    "        for layer in layers:\n",
    "            if type(layer) is nn.Linear:\n",
    "                nn.init.kaiming_normal_(layer.weight)\n",
    "\n",
    "        self.net = nn.Sequential(*layers)\n",
    "\n",
    "    def forward(self, x):\n",
    "        out = self.net(x)\n",
    "\n",
    "        if self._args['useCompl']:\n",
    "            result = self._data.complete_partial(x, out)\n",
    "            return result\n",
    "        else:\n",
    "            result = self._data.process_output(x, out)\n",
    "\n",
    "            return result"
   ]
  },
  {
   "cell_type": "code",
   "execution_count": 3,
   "metadata": {},
   "outputs": [
    {
     "data": {
      "text/plain": [
       "NNSolver(\n",
       "  (net): Sequential(\n",
       "    (0): Linear(in_features=10, out_features=200, bias=True)\n",
       "    (1): BatchNorm1d(200, eps=1e-05, momentum=0.1, affine=True, track_running_stats=True)\n",
       "    (2): ReLU()\n",
       "    (3): Dropout(p=0.2, inplace=False)\n",
       "    (4): Linear(in_features=200, out_features=200, bias=True)\n",
       "    (5): BatchNorm1d(200, eps=1e-05, momentum=0.1, affine=True, track_running_stats=True)\n",
       "    (6): ReLU()\n",
       "    (7): Dropout(p=0.2, inplace=False)\n",
       "    (8): Linear(in_features=200, out_features=10, bias=True)\n",
       "  )\n",
       ")"
      ]
     },
     "execution_count": 3,
     "metadata": {},
     "output_type": "execute_result"
    }
   ],
   "source": [
    "args = {'probType': 'dc_wss', 'hiddenSize': 200, 'useCompl': False}\n",
    "newModel = NNSolver(data, args)\n",
    "newModel.load_state_dict(torch.load(file_path))\n",
    "newModel.eval()"
   ]
  },
  {
   "cell_type": "code",
   "execution_count": 12,
   "metadata": {},
   "outputs": [],
   "source": [
    "input_data = torch.tensor([5,7,12,15,19,1,1,3,1,0.5]).unsqueeze(0)  # Adiciona uma dimensão extra\n",
    "output = newModel(input_data)\n"
   ]
  },
  {
   "cell_type": "code",
   "execution_count": 13,
   "metadata": {},
   "outputs": [
    {
     "name": "stdout",
     "output_type": "stream",
     "text": [
      "tensor([[24.0000,  0.0000,  0.0000, 24.0000,  0.0000,  5.6789,  6.9879,  7.8766,\n",
      "          7.9836,  2.0051]], grad_fn=<CatBackward0>)\n"
     ]
    }
   ],
   "source": [
    "print(output)"
   ]
  },
  {
   "cell_type": "code",
   "execution_count": 16,
   "metadata": {},
   "outputs": [
    {
     "ename": "TypeError",
     "evalue": "round(): argument 'input' (position 1) must be Tensor, not int",
     "output_type": "error",
     "traceback": [
      "\u001b[1;31m---------------------------------------------------------------------------\u001b[0m",
      "\u001b[1;31mTypeError\u001b[0m                                 Traceback (most recent call last)",
      "Cell \u001b[1;32mIn[16], line 4\u001b[0m\n\u001b[0;32m      1\u001b[0m t_min \u001b[38;5;241m=\u001b[39m \u001b[38;5;241m0\u001b[39m\n\u001b[0;32m      2\u001b[0m t_max \u001b[38;5;241m=\u001b[39m \u001b[38;5;241m23\u001b[39m\n\u001b[1;32m----> 4\u001b[0m t \u001b[38;5;241m=\u001b[39m \u001b[43mtorch\u001b[49m\u001b[38;5;241;43m.\u001b[39;49m\u001b[43mround\u001b[49m\u001b[43m(\u001b[49m\u001b[38;5;28;43mint\u001b[39;49m\u001b[43m(\u001b[49m\u001b[43mt_min\u001b[49m\u001b[43m)\u001b[49m\u001b[43m)\u001b[49m\n\u001b[0;32m      6\u001b[0m \u001b[38;5;28mprint\u001b[39m(t)\n",
      "\u001b[1;31mTypeError\u001b[0m: round(): argument 'input' (position 1) must be Tensor, not int"
     ]
    }
   ],
   "source": [
    "t_min = 0\n",
    "t_max = 23\n",
    "\n",
    "t = torch.round(int(t_min))\n",
    "\n",
    "print(t)"
   ]
  },
  {
   "cell_type": "code",
   "execution_count": null,
   "metadata": {},
   "outputs": [],
   "source": []
  }
 ],
 "metadata": {
  "kernelspec": {
   "display_name": ".venv",
   "language": "python",
   "name": "python3"
  },
  "language_info": {
   "codemirror_mode": {
    "name": "ipython",
    "version": 3
   },
   "file_extension": ".py",
   "mimetype": "text/x-python",
   "name": "python",
   "nbconvert_exporter": "python",
   "pygments_lexer": "ipython3",
   "version": "3.12.3"
  }
 },
 "nbformat": 4,
 "nbformat_minor": 2
}
