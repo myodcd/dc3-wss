{
 "cells": [
  {
   "cell_type": "code",
   "execution_count": 1,
   "metadata": {},
   "outputs": [],
   "source": [
    "import pickle\n",
    "import numpy as np\n",
    "import torch\n",
    "import warnings\n",
    "from functools import reduce\n",
    "import operator\n",
    "import matplotlib.pyplot as plt\n",
    "import torch.nn as nn\n",
    "import os\n",
    "torch.xpu.is_available()\n",
    "warnings.filterwarnings('ignore')\n",
    "\n",
    "data_path = os.path.join('datasets', 'dc_wss', 'dc_wss_dataset_dc5_ex500')\n",
    "\n",
    "with open(data_path, 'rb') as f:\n",
    "    data = pickle.load(f)\n",
    "\n",
    "file_path = os.path.join('models', 'model_2025-03-29_02-29-15_dcwss_samples500_epochs100.pt')"
   ]
  },
  {
   "cell_type": "code",
   "execution_count": 2,
   "metadata": {},
   "outputs": [],
   "source": [
    "class NNSolver(nn.Module):\n",
    "    def __init__(self, data, args):\n",
    "        super().__init__()\n",
    "        self._data = data\n",
    "        self._args = args\n",
    "        layer_sizes = [data.xdim, self._args['hiddenSize'], self._args['hiddenSize']]\n",
    "        layers = reduce(operator.add,\n",
    "            [[nn.Linear(a,b), nn.BatchNorm1d(b), nn.ReLU(), nn.Dropout(p=0.2)]\n",
    "                for a,b in zip(layer_sizes[0:-1], layer_sizes[1:])])\n",
    "        \n",
    "        output_dim = data.ydim - data.nknowns        \n",
    "\n",
    "        if self._args['useCompl']:\n",
    "            layers += [nn.Linear(layer_sizes[-1], output_dim - data.neq)]            \n",
    "        else:\n",
    "            layers += [nn.Linear(layer_sizes[-1], output_dim)] \n",
    "            \n",
    "        for layer in layers:\n",
    "            if type(layer) is nn.Linear:\n",
    "                nn.init.kaiming_normal_(layer.weight)\n",
    "\n",
    "        self.net = nn.Sequential(*layers)\n",
    "\n",
    "    def forward(self, x):\n",
    "        #print('X ', x[0])\n",
    "        out = self.net(x)\n",
    "\n",
    "        if self._args['useCompl']:\n",
    "            result = self._data.complete_partial(x, out)\n",
    "            return result\n",
    "        else:\n",
    "            \n",
    "            if self._args['probType'] == 'dc_wss':\n",
    "                out = nn.Sigmoid()(out)\n",
    "            \n",
    "            result = self._data.process_output(x, out)\n",
    "            #print('Out ', out[0])\n",
    "            return result"
   ]
  },
  {
   "cell_type": "code",
   "execution_count": 3,
   "metadata": {},
   "outputs": [
    {
     "data": {
      "text/plain": [
       "NNSolver(\n",
       "  (net): Sequential(\n",
       "    (0): Linear(in_features=10, out_features=200, bias=True)\n",
       "    (1): BatchNorm1d(200, eps=1e-05, momentum=0.1, affine=True, track_running_stats=True)\n",
       "    (2): ReLU()\n",
       "    (3): Dropout(p=0.2, inplace=False)\n",
       "    (4): Linear(in_features=200, out_features=200, bias=True)\n",
       "    (5): BatchNorm1d(200, eps=1e-05, momentum=0.1, affine=True, track_running_stats=True)\n",
       "    (6): ReLU()\n",
       "    (7): Dropout(p=0.2, inplace=False)\n",
       "    (8): Linear(in_features=200, out_features=10, bias=True)\n",
       "  )\n",
       ")"
      ]
     },
     "execution_count": 3,
     "metadata": {},
     "output_type": "execute_result"
    }
   ],
   "source": [
    "args = {'probType': 'dc_wss', 'hiddenSize': 200, 'useCompl': False, 'corrMode': 'full'}\n",
    "\n",
    "newModel = NNSolver(data, args)\n",
    "\n",
    "newModel.load_state_dict(torch.load(file_path, map_location=torch.device('cpu')))\n",
    "\n",
    "newModel.eval()"
   ]
  },
  {
   "cell_type": "code",
   "execution_count": 4,
   "metadata": {},
   "outputs": [],
   "source": [
    "    \n",
    "input_data = torch.tensor([[1,5,6,7,17,2,0.9,0.9,0.9,1]])\n",
    "\n",
    "#input_data = torch.tensor([[1,9,12,16,20,1.4,1,0.6,1,2]])\n",
    "output_data = newModel(input_data)"
   ]
  },
  {
   "cell_type": "code",
   "execution_count": 5,
   "metadata": {},
   "outputs": [
    {
     "name": "stdout",
     "output_type": "stream",
     "text": [
      "Input:  tensor([[ 1.0000,  5.0000,  6.0000,  7.0000, 17.0000,  2.0000,  0.9000,  0.9000,\n",
      "          0.9000,  1.0000]])\n",
      "Output:  tensor([[10.0000, 15.0000, 17.0000, 19.0000, 21.0000,  0.6978,  2.0000,  1.9507,\n",
      "          2.0000,  3.0000]], grad_fn=<CopySlices>)\n"
     ]
    }
   ],
   "source": [
    "print('Input: ', input_data)\n",
    "print('Output: ', output_data)"
   ]
  },
  {
   "cell_type": "code",
   "execution_count": 6,
   "metadata": {},
   "outputs": [
    {
     "name": "stdout",
     "output_type": "stream",
     "text": [
      "[array([-1.59004211, -1.14501953, -4.25704193, -2.9822464 , -2.9822464 ,\n",
      "       -1.71475983, -1.74835968, -0.49360657, -0.49360657,  1.37815857,\n",
      "        1.37815857])]\n",
      "- - -\n"
     ]
    },
    {
     "data": {
      "text/plain": [
       "130.65090663283374"
      ]
     },
     "execution_count": 6,
     "metadata": {},
     "output_type": "execute_result"
    }
   ],
   "source": [
    "import test_level as tl\n",
    "\n",
    "output_data = output_data.detach().numpy().tolist()\n",
    "\n",
    "tl.gT(output_data[0])\n",
    "print('- - -')\n",
    "tl.obj_fn(output_data[0])"
   ]
  },
  {
   "cell_type": "code",
   "execution_count": 12,
   "metadata": {},
   "outputs": [
    {
     "name": "stdout",
     "output_type": "stream",
     "text": [
      "xpu\n"
     ]
    }
   ],
   "source": [
    "DEVICE = torch.device(\"xpu\" if torch.xpu.is_available() else \"cpu\")\n",
    "\n",
    "print(DEVICE)"
   ]
  },
  {
   "cell_type": "code",
   "execution_count": 11,
   "metadata": {},
   "outputs": [
    {
     "data": {
      "text/plain": [
       "True"
      ]
     },
     "execution_count": 11,
     "metadata": {},
     "output_type": "execute_result"
    }
   ],
   "source": [
    "torch.xpu.is_available()"
   ]
  },
  {
   "cell_type": "code",
   "execution_count": 9,
   "metadata": {},
   "outputs": [
    {
     "data": {
      "text/plain": [
       "tensor([[ 2.0000,  4.0000,  9.0000,  ...,  2.7583,  2.7608,  2.4257],\n",
       "        [ 0.0000,  3.0000,  7.0000,  ...,  3.3119,  2.9154,  0.2704],\n",
       "        [ 9.0000, 11.0000, 15.0000,  ...,  1.4648,  3.6794,  0.1000],\n",
       "        ...,\n",
       "        [ 1.0000,  3.0000,  9.0000,  ...,  3.6602,  1.7535,  3.8391],\n",
       "        [ 1.0000,  3.0000,  9.0000,  ...,  0.3673,  2.0807,  0.1000],\n",
       "        [ 0.0000,  2.0000,  8.0000,  ...,  3.1508,  4.1285,  1.0117]])"
      ]
     },
     "execution_count": 9,
     "metadata": {},
     "output_type": "execute_result"
    }
   ],
   "source": [
    "data.X\n"
   ]
  },
  {
   "cell_type": "code",
   "execution_count": null,
   "metadata": {},
   "outputs": [],
   "source": []
  }
 ],
 "metadata": {
  "kernelspec": {
   "display_name": ".venv",
   "language": "python",
   "name": "python3"
  },
  "language_info": {
   "codemirror_mode": {
    "name": "ipython",
    "version": 3
   },
   "file_extension": ".py",
   "mimetype": "text/x-python",
   "name": "python",
   "nbconvert_exporter": "python",
   "pygments_lexer": "ipython3",
   "version": "3.12.3"
  }
 },
 "nbformat": 4,
 "nbformat_minor": 2
}
